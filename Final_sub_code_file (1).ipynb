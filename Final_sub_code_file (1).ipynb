{
 "cells": [
  {
   "cell_type": "code",
   "execution_count": 1,
   "metadata": {
    "id": "8gh9GowQJs-t"
   },
   "outputs": [],
   "source": [
    "import numpy as np\n",
    "import pandas as pd\n",
    "import matplotlib.pyplot as plt\n",
    "import seaborn as sns\n",
    "import warnings\n",
    "warnings.filterwarnings(\"ignore\")\n",
    "\n",
    "from sklearn.model_selection import train_test_split\n",
    "from sklearn.ensemble import RandomForestRegressor\n",
    "# baseline in performance with logistic regression model\n",
    "from sklearn.datasets import make_classification\n",
    "from sklearn.preprocessing import LabelEncoder\n",
    "from sklearn.model_selection import train_test_split\n",
    "from sklearn.metrics import accuracy_score\n",
    "from sklearn.metrics import log_loss\n",
    "\n",
    "##https://machinelearningmastery.com/autoencoder-for-classification/\n",
    "# train autoencoder for classification with no compression in the bottleneck layer\n",
    "from sklearn.preprocessing import MinMaxScaler\n",
    "from tensorflow.keras.models import Model\n",
    "from tensorflow.keras.layers import Input\n",
    "from tensorflow.keras.layers import Dense\n",
    "from tensorflow.keras.layers import LeakyReLU\n",
    "from tensorflow.keras.layers import BatchNormalization\n",
    "from tensorflow.keras.utils import plot_model\n",
    "from matplotlib import pyplot\n",
    "from keras.models import load_model "
   ]
  },
  {
   "cell_type": "code",
   "execution_count": 3,
   "metadata": {
    "id": "XSg4xsjsJs-3"
   },
   "outputs": [],
   "source": [
    "train=pd.read_csv(\"/content/train.csv\")\n",
    "test=pd.read_csv(\"/content/test.csv\")"
   ]
  },
  {
   "cell_type": "code",
   "execution_count": 4,
   "metadata": {
    "colab": {
     "base_uri": "https://localhost:8080/"
    },
    "id": "2jrseXM3Js-4",
    "outputId": "60b6ab11-95dc-4458-a58c-7d77527e0c99"
   },
   "outputs": [
    {
     "name": "stdout",
     "output_type": "stream",
     "text": [
      "(245725, 11)\n",
      "(105312, 10)\n"
     ]
    }
   ],
   "source": [
    "#shape of the dataset\n",
    "print(train.shape)#shape of train_data\n",
    "print(test.shape)#shape of test_data"
   ]
  },
  {
   "cell_type": "code",
   "execution_count": 5,
   "metadata": {
    "colab": {
     "base_uri": "https://localhost:8080/"
    },
    "id": "pvw51sOhJs-6",
    "outputId": "9107353d-bbc1-4f95-e222-247eacd11401"
   },
   "outputs": [
    {
     "name": "stdout",
     "output_type": "stream",
     "text": [
      "ID                         0\n",
      "Gender                     0\n",
      "Age                        0\n",
      "Region_Code                0\n",
      "Occupation                 0\n",
      "Channel_Code               0\n",
      "Vintage                    0\n",
      "Credit_Product         29325\n",
      "Avg_Account_Balance        0\n",
      "Is_Active                  0\n",
      "Is_Lead                    0\n",
      "dtype: int64\n"
     ]
    }
   ],
   "source": [
    "#checking the Null values\n",
    "print((train.isnull().sum()))#Null values for train_data\n"
   ]
  },
  {
   "cell_type": "code",
   "execution_count": 6,
   "metadata": {
    "colab": {
     "base_uri": "https://localhost:8080/"
    },
    "id": "sA-3_rB4Js-7",
    "outputId": "2ef95581-b8b0-4cb4-8cb5-20fc6fc0a722"
   },
   "outputs": [
    {
     "name": "stdout",
     "output_type": "stream",
     "text": [
      "ID                         0\n",
      "Gender                     0\n",
      "Age                        0\n",
      "Region_Code                0\n",
      "Occupation                 0\n",
      "Channel_Code               0\n",
      "Vintage                    0\n",
      "Credit_Product         12522\n",
      "Avg_Account_Balance        0\n",
      "Is_Active                  0\n",
      "dtype: int64\n"
     ]
    }
   ],
   "source": [
    "print((test.isnull().sum()))#Null values for test_data"
   ]
  },
  {
   "cell_type": "markdown",
   "metadata": {
    "id": "Gp8_fv3xJs-8"
   },
   "source": [
    "Credit product has high null values"
   ]
  },
  {
   "cell_type": "code",
   "execution_count": 7,
   "metadata": {
    "colab": {
     "base_uri": "https://localhost:8080/",
     "height": 200
    },
    "id": "Bz8UwlK3Js-9",
    "outputId": "30293de9-e2a8-4f50-e115-5240bb83b7ce"
   },
   "outputs": [
    {
     "data": {
      "text/html": [
       "<div>\n",
       "<style scoped>\n",
       "    .dataframe tbody tr th:only-of-type {\n",
       "        vertical-align: middle;\n",
       "    }\n",
       "\n",
       "    .dataframe tbody tr th {\n",
       "        vertical-align: top;\n",
       "    }\n",
       "\n",
       "    .dataframe thead th {\n",
       "        text-align: right;\n",
       "    }\n",
       "</style>\n",
       "<table border=\"1\" class=\"dataframe\">\n",
       "  <thead>\n",
       "    <tr style=\"text-align: right;\">\n",
       "      <th></th>\n",
       "      <th>ID</th>\n",
       "      <th>Gender</th>\n",
       "      <th>Age</th>\n",
       "      <th>Region_Code</th>\n",
       "      <th>Occupation</th>\n",
       "      <th>Channel_Code</th>\n",
       "      <th>Vintage</th>\n",
       "      <th>Credit_Product</th>\n",
       "      <th>Avg_Account_Balance</th>\n",
       "      <th>Is_Active</th>\n",
       "      <th>Is_Lead</th>\n",
       "    </tr>\n",
       "  </thead>\n",
       "  <tbody>\n",
       "    <tr>\n",
       "      <th>0</th>\n",
       "      <td>NNVBBKZB</td>\n",
       "      <td>Female</td>\n",
       "      <td>73</td>\n",
       "      <td>RG268</td>\n",
       "      <td>Other</td>\n",
       "      <td>X3</td>\n",
       "      <td>43</td>\n",
       "      <td>No</td>\n",
       "      <td>1045696</td>\n",
       "      <td>No</td>\n",
       "      <td>0</td>\n",
       "    </tr>\n",
       "    <tr>\n",
       "      <th>1</th>\n",
       "      <td>IDD62UNG</td>\n",
       "      <td>Female</td>\n",
       "      <td>30</td>\n",
       "      <td>RG277</td>\n",
       "      <td>Salaried</td>\n",
       "      <td>X1</td>\n",
       "      <td>32</td>\n",
       "      <td>No</td>\n",
       "      <td>581988</td>\n",
       "      <td>No</td>\n",
       "      <td>0</td>\n",
       "    </tr>\n",
       "    <tr>\n",
       "      <th>2</th>\n",
       "      <td>HD3DSEMC</td>\n",
       "      <td>Female</td>\n",
       "      <td>56</td>\n",
       "      <td>RG268</td>\n",
       "      <td>Self_Employed</td>\n",
       "      <td>X3</td>\n",
       "      <td>26</td>\n",
       "      <td>No</td>\n",
       "      <td>1484315</td>\n",
       "      <td>Yes</td>\n",
       "      <td>0</td>\n",
       "    </tr>\n",
       "    <tr>\n",
       "      <th>3</th>\n",
       "      <td>BF3NC7KV</td>\n",
       "      <td>Male</td>\n",
       "      <td>34</td>\n",
       "      <td>RG270</td>\n",
       "      <td>Salaried</td>\n",
       "      <td>X1</td>\n",
       "      <td>19</td>\n",
       "      <td>No</td>\n",
       "      <td>470454</td>\n",
       "      <td>No</td>\n",
       "      <td>0</td>\n",
       "    </tr>\n",
       "    <tr>\n",
       "      <th>4</th>\n",
       "      <td>TEASRWXV</td>\n",
       "      <td>Female</td>\n",
       "      <td>30</td>\n",
       "      <td>RG282</td>\n",
       "      <td>Salaried</td>\n",
       "      <td>X1</td>\n",
       "      <td>33</td>\n",
       "      <td>No</td>\n",
       "      <td>886787</td>\n",
       "      <td>No</td>\n",
       "      <td>0</td>\n",
       "    </tr>\n",
       "  </tbody>\n",
       "</table>\n",
       "</div>"
      ],
      "text/plain": [
       "         ID  Gender  Age  ... Avg_Account_Balance Is_Active Is_Lead\n",
       "0  NNVBBKZB  Female   73  ...             1045696        No       0\n",
       "1  IDD62UNG  Female   30  ...              581988        No       0\n",
       "2  HD3DSEMC  Female   56  ...             1484315       Yes       0\n",
       "3  BF3NC7KV    Male   34  ...              470454        No       0\n",
       "4  TEASRWXV  Female   30  ...              886787        No       0\n",
       "\n",
       "[5 rows x 11 columns]"
      ]
     },
     "execution_count": 7,
     "metadata": {
      "tags": []
     },
     "output_type": "execute_result"
    }
   ],
   "source": [
    "train.head()"
   ]
  },
  {
   "cell_type": "code",
   "execution_count": 8,
   "metadata": {
    "colab": {
     "base_uri": "https://localhost:8080/",
     "height": 200
    },
    "id": "kq10ZSIAJs--",
    "outputId": "666f0fa8-4a34-45b5-fc01-6966e4820559"
   },
   "outputs": [
    {
     "data": {
      "text/html": [
       "<div>\n",
       "<style scoped>\n",
       "    .dataframe tbody tr th:only-of-type {\n",
       "        vertical-align: middle;\n",
       "    }\n",
       "\n",
       "    .dataframe tbody tr th {\n",
       "        vertical-align: top;\n",
       "    }\n",
       "\n",
       "    .dataframe thead th {\n",
       "        text-align: right;\n",
       "    }\n",
       "</style>\n",
       "<table border=\"1\" class=\"dataframe\">\n",
       "  <thead>\n",
       "    <tr style=\"text-align: right;\">\n",
       "      <th></th>\n",
       "      <th>ID</th>\n",
       "      <th>Gender</th>\n",
       "      <th>Age</th>\n",
       "      <th>Region_Code</th>\n",
       "      <th>Occupation</th>\n",
       "      <th>Channel_Code</th>\n",
       "      <th>Vintage</th>\n",
       "      <th>Credit_Product</th>\n",
       "      <th>Avg_Account_Balance</th>\n",
       "      <th>Is_Active</th>\n",
       "    </tr>\n",
       "  </thead>\n",
       "  <tbody>\n",
       "    <tr>\n",
       "      <th>0</th>\n",
       "      <td>VBENBARO</td>\n",
       "      <td>Male</td>\n",
       "      <td>29</td>\n",
       "      <td>RG254</td>\n",
       "      <td>Other</td>\n",
       "      <td>X1</td>\n",
       "      <td>25</td>\n",
       "      <td>Yes</td>\n",
       "      <td>742366</td>\n",
       "      <td>No</td>\n",
       "    </tr>\n",
       "    <tr>\n",
       "      <th>1</th>\n",
       "      <td>CCMEWNKY</td>\n",
       "      <td>Male</td>\n",
       "      <td>43</td>\n",
       "      <td>RG268</td>\n",
       "      <td>Other</td>\n",
       "      <td>X2</td>\n",
       "      <td>49</td>\n",
       "      <td>NaN</td>\n",
       "      <td>925537</td>\n",
       "      <td>No</td>\n",
       "    </tr>\n",
       "    <tr>\n",
       "      <th>2</th>\n",
       "      <td>VK3KGA9M</td>\n",
       "      <td>Male</td>\n",
       "      <td>31</td>\n",
       "      <td>RG270</td>\n",
       "      <td>Salaried</td>\n",
       "      <td>X1</td>\n",
       "      <td>14</td>\n",
       "      <td>No</td>\n",
       "      <td>215949</td>\n",
       "      <td>No</td>\n",
       "    </tr>\n",
       "    <tr>\n",
       "      <th>3</th>\n",
       "      <td>TT8RPZVC</td>\n",
       "      <td>Male</td>\n",
       "      <td>29</td>\n",
       "      <td>RG272</td>\n",
       "      <td>Other</td>\n",
       "      <td>X1</td>\n",
       "      <td>33</td>\n",
       "      <td>No</td>\n",
       "      <td>868070</td>\n",
       "      <td>No</td>\n",
       "    </tr>\n",
       "    <tr>\n",
       "      <th>4</th>\n",
       "      <td>SHQZEYTZ</td>\n",
       "      <td>Female</td>\n",
       "      <td>29</td>\n",
       "      <td>RG270</td>\n",
       "      <td>Other</td>\n",
       "      <td>X1</td>\n",
       "      <td>19</td>\n",
       "      <td>No</td>\n",
       "      <td>657087</td>\n",
       "      <td>No</td>\n",
       "    </tr>\n",
       "  </tbody>\n",
       "</table>\n",
       "</div>"
      ],
      "text/plain": [
       "         ID  Gender  Age  ... Credit_Product Avg_Account_Balance Is_Active\n",
       "0  VBENBARO    Male   29  ...            Yes              742366        No\n",
       "1  CCMEWNKY    Male   43  ...            NaN              925537        No\n",
       "2  VK3KGA9M    Male   31  ...             No              215949        No\n",
       "3  TT8RPZVC    Male   29  ...             No              868070        No\n",
       "4  SHQZEYTZ  Female   29  ...             No              657087        No\n",
       "\n",
       "[5 rows x 10 columns]"
      ]
     },
     "execution_count": 8,
     "metadata": {
      "tags": []
     },
     "output_type": "execute_result"
    }
   ],
   "source": [
    "test.head()"
   ]
  },
  {
   "cell_type": "code",
   "execution_count": 9,
   "metadata": {
    "colab": {
     "base_uri": "https://localhost:8080/"
    },
    "id": "GRI2jDBBJs-_",
    "outputId": "8a1e0670-ee78-4a92-d4f2-3d61a129bef7"
   },
   "outputs": [
    {
     "name": "stdout",
     "output_type": "stream",
     "text": [
      "<class 'pandas.core.frame.DataFrame'>\n",
      "RangeIndex: 245725 entries, 0 to 245724\n",
      "Data columns (total 11 columns):\n",
      " #   Column               Non-Null Count   Dtype \n",
      "---  ------               --------------   ----- \n",
      " 0   ID                   245725 non-null  object\n",
      " 1   Gender               245725 non-null  object\n",
      " 2   Age                  245725 non-null  int64 \n",
      " 3   Region_Code          245725 non-null  object\n",
      " 4   Occupation           245725 non-null  object\n",
      " 5   Channel_Code         245725 non-null  object\n",
      " 6   Vintage              245725 non-null  int64 \n",
      " 7   Credit_Product       216400 non-null  object\n",
      " 8   Avg_Account_Balance  245725 non-null  int64 \n",
      " 9   Is_Active            245725 non-null  object\n",
      " 10  Is_Lead              245725 non-null  int64 \n",
      "dtypes: int64(4), object(7)\n",
      "memory usage: 20.6+ MB\n"
     ]
    }
   ],
   "source": [
    "train.info()"
   ]
  },
  {
   "cell_type": "code",
   "execution_count": 10,
   "metadata": {
    "colab": {
     "base_uri": "https://localhost:8080/"
    },
    "id": "Z_qanD0qJs_A",
    "outputId": "08b50224-0a1a-4c39-a3b9-3f7e2d1e000e"
   },
   "outputs": [
    {
     "data": {
      "text/plain": [
       "array(['Other', 'Salaried', 'Self_Employed', 'Entrepreneur'], dtype=object)"
      ]
     },
     "execution_count": 10,
     "metadata": {
      "tags": []
     },
     "output_type": "execute_result"
    }
   ],
   "source": [
    "arr = train[\"Occupation\"].unique()\n",
    "arr"
   ]
  },
  {
   "cell_type": "code",
   "execution_count": 11,
   "metadata": {
    "colab": {
     "base_uri": "https://localhost:8080/"
    },
    "id": "eV5oCytSJs_B",
    "outputId": "221c311c-9d20-45ad-af75-65243afb649c"
   },
   "outputs": [
    {
     "data": {
      "text/plain": [
       "array(['X3', 'X1', 'X2', 'X4'], dtype=object)"
      ]
     },
     "execution_count": 11,
     "metadata": {
      "tags": []
     },
     "output_type": "execute_result"
    }
   ],
   "source": [
    "arr = train[\"Channel_Code\"].unique()\n",
    "arr"
   ]
  },
  {
   "cell_type": "code",
   "execution_count": 12,
   "metadata": {
    "colab": {
     "base_uri": "https://localhost:8080/",
     "height": 408
    },
    "id": "iHzYK2TBJs_C",
    "outputId": "1a2e3277-eb83-4a4a-bac2-7762450313f8"
   },
   "outputs": [
    {
     "data": {
      "text/html": [
       "<div>\n",
       "<style scoped>\n",
       "    .dataframe tbody tr th:only-of-type {\n",
       "        vertical-align: middle;\n",
       "    }\n",
       "\n",
       "    .dataframe tbody tr th {\n",
       "        vertical-align: top;\n",
       "    }\n",
       "\n",
       "    .dataframe thead th {\n",
       "        text-align: right;\n",
       "    }\n",
       "</style>\n",
       "<table border=\"1\" class=\"dataframe\">\n",
       "  <thead>\n",
       "    <tr style=\"text-align: right;\">\n",
       "      <th></th>\n",
       "      <th>Gender</th>\n",
       "      <th>Age</th>\n",
       "      <th>Region_Code</th>\n",
       "      <th>Occupation</th>\n",
       "      <th>Channel_Code</th>\n",
       "      <th>Vintage</th>\n",
       "      <th>Credit_Product</th>\n",
       "      <th>Avg_Account_Balance</th>\n",
       "      <th>Is_Active</th>\n",
       "      <th>Is_Lead</th>\n",
       "    </tr>\n",
       "  </thead>\n",
       "  <tbody>\n",
       "    <tr>\n",
       "      <th>0</th>\n",
       "      <td>Female</td>\n",
       "      <td>73</td>\n",
       "      <td>RG268</td>\n",
       "      <td>Other</td>\n",
       "      <td>X3</td>\n",
       "      <td>43</td>\n",
       "      <td>No</td>\n",
       "      <td>1045696</td>\n",
       "      <td>No</td>\n",
       "      <td>0</td>\n",
       "    </tr>\n",
       "    <tr>\n",
       "      <th>1</th>\n",
       "      <td>Female</td>\n",
       "      <td>30</td>\n",
       "      <td>RG277</td>\n",
       "      <td>Salaried</td>\n",
       "      <td>X1</td>\n",
       "      <td>32</td>\n",
       "      <td>No</td>\n",
       "      <td>581988</td>\n",
       "      <td>No</td>\n",
       "      <td>0</td>\n",
       "    </tr>\n",
       "    <tr>\n",
       "      <th>2</th>\n",
       "      <td>Female</td>\n",
       "      <td>56</td>\n",
       "      <td>RG268</td>\n",
       "      <td>Self_Employed</td>\n",
       "      <td>X3</td>\n",
       "      <td>26</td>\n",
       "      <td>No</td>\n",
       "      <td>1484315</td>\n",
       "      <td>Yes</td>\n",
       "      <td>0</td>\n",
       "    </tr>\n",
       "    <tr>\n",
       "      <th>3</th>\n",
       "      <td>Male</td>\n",
       "      <td>34</td>\n",
       "      <td>RG270</td>\n",
       "      <td>Salaried</td>\n",
       "      <td>X1</td>\n",
       "      <td>19</td>\n",
       "      <td>No</td>\n",
       "      <td>470454</td>\n",
       "      <td>No</td>\n",
       "      <td>0</td>\n",
       "    </tr>\n",
       "    <tr>\n",
       "      <th>4</th>\n",
       "      <td>Female</td>\n",
       "      <td>30</td>\n",
       "      <td>RG282</td>\n",
       "      <td>Salaried</td>\n",
       "      <td>X1</td>\n",
       "      <td>33</td>\n",
       "      <td>No</td>\n",
       "      <td>886787</td>\n",
       "      <td>No</td>\n",
       "      <td>0</td>\n",
       "    </tr>\n",
       "    <tr>\n",
       "      <th>...</th>\n",
       "      <td>...</td>\n",
       "      <td>...</td>\n",
       "      <td>...</td>\n",
       "      <td>...</td>\n",
       "      <td>...</td>\n",
       "      <td>...</td>\n",
       "      <td>...</td>\n",
       "      <td>...</td>\n",
       "      <td>...</td>\n",
       "      <td>...</td>\n",
       "    </tr>\n",
       "    <tr>\n",
       "      <th>245720</th>\n",
       "      <td>Male</td>\n",
       "      <td>51</td>\n",
       "      <td>RG284</td>\n",
       "      <td>Self_Employed</td>\n",
       "      <td>X3</td>\n",
       "      <td>109</td>\n",
       "      <td>NaN</td>\n",
       "      <td>1925586</td>\n",
       "      <td>No</td>\n",
       "      <td>0</td>\n",
       "    </tr>\n",
       "    <tr>\n",
       "      <th>245721</th>\n",
       "      <td>Male</td>\n",
       "      <td>27</td>\n",
       "      <td>RG268</td>\n",
       "      <td>Salaried</td>\n",
       "      <td>X1</td>\n",
       "      <td>15</td>\n",
       "      <td>No</td>\n",
       "      <td>862952</td>\n",
       "      <td>Yes</td>\n",
       "      <td>0</td>\n",
       "    </tr>\n",
       "    <tr>\n",
       "      <th>245722</th>\n",
       "      <td>Female</td>\n",
       "      <td>26</td>\n",
       "      <td>RG281</td>\n",
       "      <td>Salaried</td>\n",
       "      <td>X1</td>\n",
       "      <td>13</td>\n",
       "      <td>No</td>\n",
       "      <td>670659</td>\n",
       "      <td>No</td>\n",
       "      <td>0</td>\n",
       "    </tr>\n",
       "    <tr>\n",
       "      <th>245723</th>\n",
       "      <td>Female</td>\n",
       "      <td>28</td>\n",
       "      <td>RG273</td>\n",
       "      <td>Salaried</td>\n",
       "      <td>X1</td>\n",
       "      <td>31</td>\n",
       "      <td>No</td>\n",
       "      <td>407504</td>\n",
       "      <td>No</td>\n",
       "      <td>0</td>\n",
       "    </tr>\n",
       "    <tr>\n",
       "      <th>245724</th>\n",
       "      <td>Male</td>\n",
       "      <td>29</td>\n",
       "      <td>RG269</td>\n",
       "      <td>Salaried</td>\n",
       "      <td>X1</td>\n",
       "      <td>21</td>\n",
       "      <td>No</td>\n",
       "      <td>1129276</td>\n",
       "      <td>No</td>\n",
       "      <td>0</td>\n",
       "    </tr>\n",
       "  </tbody>\n",
       "</table>\n",
       "<p>245725 rows × 10 columns</p>\n",
       "</div>"
      ],
      "text/plain": [
       "        Gender  Age Region_Code  ... Avg_Account_Balance Is_Active  Is_Lead\n",
       "0       Female   73       RG268  ...             1045696        No        0\n",
       "1       Female   30       RG277  ...              581988        No        0\n",
       "2       Female   56       RG268  ...             1484315       Yes        0\n",
       "3         Male   34       RG270  ...              470454        No        0\n",
       "4       Female   30       RG282  ...              886787        No        0\n",
       "...        ...  ...         ...  ...                 ...       ...      ...\n",
       "245720    Male   51       RG284  ...             1925586        No        0\n",
       "245721    Male   27       RG268  ...              862952       Yes        0\n",
       "245722  Female   26       RG281  ...              670659        No        0\n",
       "245723  Female   28       RG273  ...              407504        No        0\n",
       "245724    Male   29       RG269  ...             1129276        No        0\n",
       "\n",
       "[245725 rows x 10 columns]"
      ]
     },
     "execution_count": 12,
     "metadata": {
      "tags": []
     },
     "output_type": "execute_result"
    }
   ],
   "source": [
    "train_1=train.drop(columns=\"ID\")\n",
    "train_1"
   ]
  },
  {
   "cell_type": "code",
   "execution_count": 13,
   "metadata": {
    "colab": {
     "base_uri": "https://localhost:8080/"
    },
    "id": "8RPEl9smJs_D",
    "outputId": "fb76e01d-e2d1-44f7-a33b-6b0c788e51ad"
   },
   "outputs": [
    {
     "data": {
      "text/plain": [
       "No     144357\n",
       "Yes     72043\n",
       "Name: Credit_Product, dtype: int64"
      ]
     },
     "execution_count": 13,
     "metadata": {
      "tags": []
     },
     "output_type": "execute_result"
    }
   ],
   "source": [
    "arr = train[\"Credit_Product\"].value_counts()\n",
    "arr"
   ]
  },
  {
   "cell_type": "markdown",
   "metadata": {
    "id": "--7gCmo6Js_E"
   },
   "source": [
    "# Explorative Data Analysis"
   ]
  },
  {
   "cell_type": "markdown",
   "metadata": {
    "id": "w2B3FvXlJs_E"
   },
   "source": [
    "### Univariate analysis"
   ]
  },
  {
   "cell_type": "code",
   "execution_count": 14,
   "metadata": {
    "colab": {
     "base_uri": "https://localhost:8080/",
     "height": 263
    },
    "id": "vu8NUKKaJs_F",
    "outputId": "63c35d3d-1c96-4dbf-d2f9-40e11649632e"
   },
   "outputs": [
    {
     "data": {
      "text/plain": [
       "<matplotlib.axes._subplots.AxesSubplot at 0x7f4187d94a90>"
      ]
     },
     "execution_count": 14,
     "metadata": {
      "tags": []
     },
     "output_type": "execute_result"
    },
    {
     "data": {
      "image/png": "[encoded data removed]",
      "text/plain": [
       "<Figure size 432x288 with 1 Axes>"
      ]
     },
     "metadata": {
      "tags": []
     },
     "output_type": "display_data"
    }
   ],
   "source": [
    "def label_function(val):\n",
    "    return f'{val / 100 * len(train):.0f}\\n{val:.0f}%'\n",
    "train.groupby('Credit_Product').size().plot(kind='pie', autopct=label_function, textprops={'fontsize': 20},\n",
    "                                  colors=['tomato', 'gold', 'skyblue'])"
   ]
  },
  {
   "cell_type": "code",
   "execution_count": 15,
   "metadata": {
    "colab": {
     "base_uri": "https://localhost:8080/",
     "height": 263
    },
    "id": "9p6UgEHKJs_G",
    "outputId": "4f5b64fe-0024-46e5-b9bb-30604f3ba733"
   },
   "outputs": [
    {
     "data": {
      "text/plain": [
       "<matplotlib.axes._subplots.AxesSubplot at 0x7f41874e8890>"
      ]
     },
     "execution_count": 15,
     "metadata": {
      "tags": []
     },
     "output_type": "execute_result"
    },
    {
     "data": {
      "image/png": "[encoded data removed]",
      "text/plain": [
       "<Figure size 432x288 with 1 Axes>"
      ]
     },
     "metadata": {
      "tags": []
     },
     "output_type": "display_data"
    }
   ],
   "source": [
    "def label_function(val):\n",
    "    return f'{val / 100 * len(test):.0f}\\n{val:.0f}%'\n",
    "test.groupby('Credit_Product').size().plot(kind='pie', autopct=label_function, textprops={'fontsize': 20},\n",
    "                                  colors=['tomato', 'gold', 'skyblue'])"
   ]
  },
  {
   "cell_type": "code",
   "execution_count": 16,
   "metadata": {
    "colab": {
     "base_uri": "https://localhost:8080/",
     "height": 312
    },
    "id": "ey9QczV1Js_G",
    "outputId": "8fc98c21-fab8-42fb-cbc6-7d4711a27f55"
   },
   "outputs": [
    {
     "data": {
      "image/png": "[encoded data removed]",
      "text/plain": [
       "<Figure size 333.125x288 with 1 Axes>"
      ]
     },
     "metadata": {
      "needs_background": "light",
      "tags": []
     },
     "output_type": "display_data"
    }
   ],
   "source": [
    "g = sns.catplot(x=\"Credit_Product\", hue=\"Is_Lead\",\n",
    "                data=train, kind=\"count\",\n",
    "                height=4, aspect=1)"
   ]
  },
  {
   "cell_type": "code",
   "execution_count": 17,
   "metadata": {
    "id": "UnwhTSzfJs_H"
   },
   "outputs": [],
   "source": [
    "X_train=train_1.drop(['Is_Lead'],axis=1)\n",
    "Y_train=train_1['Is_Lead'].values\n",
    "X_test_1=test.drop(['ID'],axis=1)"
   ]
  },
  {
   "cell_type": "code",
   "execution_count": 18,
   "metadata": {
    "id": "Qf08gx1MJs_I"
   },
   "outputs": [],
   "source": [
    "# splitting train and test data\n",
    "X_train,X_test,y_train,y_test=train_test_split(X_train,Y_train,test_size=0.2)"
   ]
  },
  {
   "cell_type": "code",
   "execution_count": 19,
   "metadata": {
    "colab": {
     "base_uri": "https://localhost:8080/"
    },
    "id": "hnThcg1OJs_I",
    "outputId": "8e294964-9c1d-41a8-92c5-a62e0320758d"
   },
   "outputs": [
    {
     "data": {
      "text/plain": [
       "(196580, 9)"
      ]
     },
     "execution_count": 19,
     "metadata": {
      "tags": []
     },
     "output_type": "execute_result"
    }
   ],
   "source": [
    "X_train.shape"
   ]
  },
  {
   "cell_type": "code",
   "execution_count": 20,
   "metadata": {
    "colab": {
     "base_uri": "https://localhost:8080/"
    },
    "id": "bKqImQGLJs_J",
    "outputId": "53472281-d9c0-4156-bdd4-e5d03d135f82"
   },
   "outputs": [
    {
     "data": {
      "text/plain": [
       "(49145, 9)"
      ]
     },
     "execution_count": 20,
     "metadata": {
      "tags": []
     },
     "output_type": "execute_result"
    }
   ],
   "source": [
    "X_test.shape"
   ]
  },
  {
   "cell_type": "code",
   "execution_count": 21,
   "metadata": {
    "colab": {
     "base_uri": "https://localhost:8080/"
    },
    "id": "6A29iy8pJs_K",
    "outputId": "d6b5a044-d781-4b1f-800e-9b0534bd5f66"
   },
   "outputs": [
    {
     "data": {
      "text/plain": [
       "(196580,)"
      ]
     },
     "execution_count": 21,
     "metadata": {
      "tags": []
     },
     "output_type": "execute_result"
    }
   ],
   "source": [
    "y_train.shape"
   ]
  },
  {
   "cell_type": "code",
   "execution_count": 22,
   "metadata": {
    "colab": {
     "base_uri": "https://localhost:8080/"
    },
    "id": "5RLed25zJs_K",
    "outputId": "ca140b7a-a16c-4474-b1ac-63d43012fc5c"
   },
   "outputs": [
    {
     "data": {
      "text/plain": [
       "(49145,)"
      ]
     },
     "execution_count": 22,
     "metadata": {
      "tags": []
     },
     "output_type": "execute_result"
    }
   ],
   "source": [
    "y_test.shape"
   ]
  },
  {
   "cell_type": "code",
   "execution_count": 23,
   "metadata": {
    "id": "PmHgXq5qJs_L"
   },
   "outputs": [],
   "source": [
    "X_train['Credit_Product'].fillna('Missing',inplace=True)\n",
    "X_test['Credit_Product'].fillna('Missing',inplace=True)\n",
    "X_test_1['Credit_Product'].fillna('Missing',inplace=True)"
   ]
  },
  {
   "cell_type": "markdown",
   "metadata": {},
   "source": [
    "# Applying Label Encoding"
   ]
  },
  {
   "cell_type": "code",
   "execution_count": 24,
   "metadata": {
    "id": "Vb0hk6S5Js_L"
   },
   "outputs": [],
   "source": [
    "from sklearn import preprocessing\n",
    "label_encoding=preprocessing.LabelEncoder()\n",
    "X_train['Gender']=label_encoding.fit_transform(X_train['Gender'])\n",
    "X_test['Gender']=label_encoding.fit_transform(X_test['Gender'])\n",
    "X_test_1['Gender']=label_encoding.fit_transform(X_test_1['Gender'])"
   ]
  },
  {
   "cell_type": "code",
   "execution_count": 25,
   "metadata": {
    "id": "2sor7DmTJs_M"
   },
   "outputs": [],
   "source": [
    "X_train['Region_Code']=label_encoding.fit_transform(X_train['Region_Code'])\n",
    "X_test['Region_Code']=label_encoding.fit_transform(X_test['Region_Code'])\n",
    "X_test_1['Region_Code']=label_encoding.fit_transform(X_test_1['Region_Code'])"
   ]
  },
  {
   "cell_type": "code",
   "execution_count": 26,
   "metadata": {
    "id": "55AGnV9XJs_M"
   },
   "outputs": [],
   "source": [
    "X_train['Occupation']=label_encoding.fit_transform(X_train['Occupation'])\n",
    "X_test['Occupation']=label_encoding.fit_transform(X_test['Occupation'])\n",
    "X_test_1['Occupation']=label_encoding.fit_transform(X_test_1['Occupation'])"
   ]
  },
  {
   "cell_type": "code",
   "execution_count": 27,
   "metadata": {
    "id": "d22hIl7jJs_N"
   },
   "outputs": [],
   "source": [
    "X_train['Channel_Code']=label_encoding.fit_transform(X_train['Channel_Code'])\n",
    "X_test['Channel_Code']=label_encoding.fit_transform(X_test['Channel_Code'])\n",
    "X_test_1['Channel_Code']=label_encoding.fit_transform(X_test_1['Channel_Code'])"
   ]
  },
  {
   "cell_type": "code",
   "execution_count": 28,
   "metadata": {
    "id": "G9NTFDMSJs_P"
   },
   "outputs": [],
   "source": [
    "X_train['Credit_Product']=label_encoding.fit_transform(X_train['Credit_Product'])\n",
    "X_test['Credit_Product']=label_encoding.fit_transform(X_test['Credit_Product'])\n",
    "X_test_1['Credit_Product']=label_encoding.fit_transform(X_test_1['Credit_Product'])"
   ]
  },
  {
   "cell_type": "code",
   "execution_count": 29,
   "metadata": {
    "id": "5Kf8VZW7Js_P"
   },
   "outputs": [],
   "source": [
    "X_train['Is_Active']=label_encoding.fit_transform(X_train['Is_Active'])\n",
    "X_test['Is_Active']=label_encoding.fit_transform(X_test['Is_Active'])\n",
    "X_test_1['Is_Active']=label_encoding.fit_transform(X_test_1['Is_Active'])"
   ]
  },
  {
   "cell_type": "code",
   "execution_count": 30,
   "metadata": {
    "colab": {
     "base_uri": "https://localhost:8080/",
     "height": 200
    },
    "id": "nfuNnTC0Js_Q",
    "outputId": "545722f8-f480-40a0-a798-f0eb7df66eff"
   },
   "outputs": [
    {
     "data": {
      "text/html": [
       "<div>\n",
       "<style scoped>\n",
       "    .dataframe tbody tr th:only-of-type {\n",
       "        vertical-align: middle;\n",
       "    }\n",
       "\n",
       "    .dataframe tbody tr th {\n",
       "        vertical-align: top;\n",
       "    }\n",
       "\n",
       "    .dataframe thead th {\n",
       "        text-align: right;\n",
       "    }\n",
       "</style>\n",
       "<table border=\"1\" class=\"dataframe\">\n",
       "  <thead>\n",
       "    <tr style=\"text-align: right;\">\n",
       "      <th></th>\n",
       "      <th>Gender</th>\n",
       "      <th>Age</th>\n",
       "      <th>Region_Code</th>\n",
       "      <th>Occupation</th>\n",
       "      <th>Channel_Code</th>\n",
       "      <th>Vintage</th>\n",
       "      <th>Credit_Product</th>\n",
       "      <th>Avg_Account_Balance</th>\n",
       "      <th>Is_Active</th>\n",
       "    </tr>\n",
       "  </thead>\n",
       "  <tbody>\n",
       "    <tr>\n",
       "      <th>57400</th>\n",
       "      <td>0</td>\n",
       "      <td>44</td>\n",
       "      <td>7</td>\n",
       "      <td>3</td>\n",
       "      <td>0</td>\n",
       "      <td>15</td>\n",
       "      <td>1</td>\n",
       "      <td>533848</td>\n",
       "      <td>0</td>\n",
       "    </tr>\n",
       "    <tr>\n",
       "      <th>194657</th>\n",
       "      <td>0</td>\n",
       "      <td>58</td>\n",
       "      <td>1</td>\n",
       "      <td>3</td>\n",
       "      <td>0</td>\n",
       "      <td>26</td>\n",
       "      <td>1</td>\n",
       "      <td>509943</td>\n",
       "      <td>1</td>\n",
       "    </tr>\n",
       "    <tr>\n",
       "      <th>187242</th>\n",
       "      <td>0</td>\n",
       "      <td>47</td>\n",
       "      <td>33</td>\n",
       "      <td>3</td>\n",
       "      <td>2</td>\n",
       "      <td>105</td>\n",
       "      <td>2</td>\n",
       "      <td>7403669</td>\n",
       "      <td>0</td>\n",
       "    </tr>\n",
       "    <tr>\n",
       "      <th>232302</th>\n",
       "      <td>1</td>\n",
       "      <td>48</td>\n",
       "      <td>18</td>\n",
       "      <td>3</td>\n",
       "      <td>1</td>\n",
       "      <td>63</td>\n",
       "      <td>1</td>\n",
       "      <td>1329864</td>\n",
       "      <td>1</td>\n",
       "    </tr>\n",
       "    <tr>\n",
       "      <th>191133</th>\n",
       "      <td>0</td>\n",
       "      <td>66</td>\n",
       "      <td>31</td>\n",
       "      <td>1</td>\n",
       "      <td>2</td>\n",
       "      <td>81</td>\n",
       "      <td>1</td>\n",
       "      <td>431703</td>\n",
       "      <td>0</td>\n",
       "    </tr>\n",
       "  </tbody>\n",
       "</table>\n",
       "</div>"
      ],
      "text/plain": [
       "        Gender  Age  ...  Avg_Account_Balance  Is_Active\n",
       "57400        0   44  ...               533848          0\n",
       "194657       0   58  ...               509943          1\n",
       "187242       0   47  ...              7403669          0\n",
       "232302       1   48  ...              1329864          1\n",
       "191133       0   66  ...               431703          0\n",
       "\n",
       "[5 rows x 9 columns]"
      ]
     },
     "execution_count": 30,
     "metadata": {
      "tags": []
     },
     "output_type": "execute_result"
    }
   ],
   "source": [
    "X_train.head()"
   ]
  },
  {
   "cell_type": "markdown",
   "metadata": {},
   "source": [
    "# Applying Scaling  "
   ]
  },
  {
   "cell_type": "code",
   "execution_count": 36,
   "metadata": {
    "id": "OH8nrWLUJs_R"
   },
   "outputs": [],
   "source": [
    "scale_input = MinMaxScaler()\n",
    "scale_input.fit(X_train)\n",
    "X_train_scaled = scale_input.transform(X_train)\n",
    "X_test_scaled = scale_input.transform(X_test)\n",
    "X_test_scaled_1 = scale_input.fit_transform(X_test_1)"
   ]
  },
  {
   "cell_type": "markdown",
   "metadata": {},
   "source": [
    "# Modelling- Neural Network (Multilevel Perceptrons)"
   ]
  },
  {
   "cell_type": "code",
   "execution_count": 75,
   "metadata": {
    "id": "HZt7Mm30jWkN"
   },
   "outputs": [],
   "source": [
    "#https://www.kaggle.com/mtinti/keras-starter-with-bagging-1111-84364/code\n",
    "model = Sequential()\n",
    "model.add(Dense(400, input_dim = X_train.shape[1], kernel_initializer = 'he_normal'))\n",
    "model.add(PReLU())\n",
    "model.add(BatchNormalization())\n",
    "model.add(Dropout(0.4))\n",
    "model.add(Dense(200, kernel_initializer='he_normal'))\n",
    "model.add(PReLU())\n",
    "model.add(BatchNormalization())    \n",
    "model.add(Dropout(0.2))\n",
    "model.add(Dense(50, kernel_initializer = 'he_normal'))\n",
    "model.add(PReLU())\n",
    "model.add(BatchNormalization())    \n",
    "model.add(Dropout(0.2))\n",
    "model.add(Dense(1, kernel_initializer = 'he_normal'))\n",
    "model.compile(optimizer='adam',loss=tf.keras.losses.BinaryCrossentropy(from_logits=True),metrics=[tf.keras.metrics.AUC(from_logits=True)])"
   ]
  },
  {
   "cell_type": "code",
   "execution_count": 76,
   "metadata": {
    "colab": {
     "base_uri": "https://localhost:8080/"
    },
    "id": "Jvv10ITVjaPd",
    "outputId": "03fdf3a8-ec15-43b4-be18-f62d580d639d"
   },
   "outputs": [
    {
     "name": "stdout",
     "output_type": "stream",
     "text": [
      "Epoch 1/20\n",
      "6144/6144 [==============================] - 95s 15ms/step - loss: 0.3918 - auc_1: 0.8414 - val_loss: 0.3653 - val_auc_1: 0.8597\n",
      "Epoch 2/20\n",
      "6144/6144 [==============================] - 35s 6ms/step - loss: 0.3721 - auc_1: 0.8550 - val_loss: 0.3572 - val_auc_1: 0.8658\n",
      "Epoch 3/20\n",
      "6144/6144 [==============================] - 35s 6ms/step - loss: 0.3678 - auc_1: 0.8576 - val_loss: 0.3505 - val_auc_1: 0.8693\n",
      "Epoch 4/20\n",
      "6144/6144 [==============================] - 35s 6ms/step - loss: 0.3630 - auc_1: 0.8607 - val_loss: 0.3478 - val_auc_1: 0.8713\n",
      "Epoch 5/20\n",
      "6144/6144 [==============================] - 35s 6ms/step - loss: 0.3611 - auc_1: 0.8615 - val_loss: 0.3460 - val_auc_1: 0.8711\n",
      "Epoch 6/20\n",
      "6144/6144 [==============================] - 36s 6ms/step - loss: 0.3592 - auc_1: 0.8628 - val_loss: 0.3461 - val_auc_1: 0.8716\n",
      "Epoch 7/20\n",
      "6144/6144 [==============================] - 37s 6ms/step - loss: 0.3588 - auc_1: 0.8630 - val_loss: 0.3451 - val_auc_1: 0.8714\n",
      "Epoch 8/20\n",
      "6144/6144 [==============================] - 36s 6ms/step - loss: 0.3579 - auc_1: 0.8637 - val_loss: 0.3449 - val_auc_1: 0.8722\n",
      "Epoch 9/20\n",
      "6144/6144 [==============================] - 36s 6ms/step - loss: 0.3576 - auc_1: 0.8637 - val_loss: 0.3470 - val_auc_1: 0.8725\n",
      "Epoch 10/20\n",
      "6144/6144 [==============================] - 36s 6ms/step - loss: 0.3579 - auc_1: 0.8634 - val_loss: 0.3439 - val_auc_1: 0.8726\n",
      "Epoch 11/20\n",
      "6144/6144 [==============================] - 36s 6ms/step - loss: 0.3567 - auc_1: 0.8642 - val_loss: 0.3441 - val_auc_1: 0.8720\n",
      "Epoch 12/20\n",
      "6144/6144 [==============================] - 36s 6ms/step - loss: 0.3563 - auc_1: 0.8649 - val_loss: 0.3437 - val_auc_1: 0.8728\n",
      "Epoch 13/20\n",
      "6144/6144 [==============================] - 36s 6ms/step - loss: 0.3564 - auc_1: 0.8645 - val_loss: 0.3446 - val_auc_1: 0.8731\n",
      "Epoch 14/20\n",
      "6144/6144 [==============================] - 36s 6ms/step - loss: 0.3556 - auc_1: 0.8655 - val_loss: 0.3449 - val_auc_1: 0.8734\n",
      "Epoch 15/20\n",
      "6144/6144 [==============================] - 37s 6ms/step - loss: 0.3557 - auc_1: 0.8650 - val_loss: 0.3435 - val_auc_1: 0.8727\n",
      "Epoch 16/20\n",
      "6144/6144 [==============================] - 36s 6ms/step - loss: 0.3555 - auc_1: 0.8652 - val_loss: 0.3443 - val_auc_1: 0.8733\n",
      "Epoch 17/20\n",
      "6144/6144 [==============================] - 35s 6ms/step - loss: 0.3554 - auc_1: 0.8654 - val_loss: 0.3428 - val_auc_1: 0.8737\n",
      "Epoch 18/20\n",
      "6144/6144 [==============================] - 36s 6ms/step - loss: 0.3554 - auc_1: 0.8654 - val_loss: 0.3438 - val_auc_1: 0.8730\n",
      "Epoch 19/20\n",
      "6144/6144 [==============================] - 37s 6ms/step - loss: 0.3545 - auc_1: 0.8664 - val_loss: 0.3435 - val_auc_1: 0.8720\n",
      "Epoch 20/20\n",
      "6144/6144 [==============================] - 37s 6ms/step - loss: 0.3548 - auc_1: 0.8656 - val_loss: 0.3439 - val_auc_1: 0.8729\n"
     ]
    },
    {
     "data": {
      "text/plain": [
       "<tensorflow.python.keras.callbacks.History at 0x7f4113b53390>"
      ]
     },
     "execution_count": 76,
     "metadata": {
      "tags": []
     },
     "output_type": "execute_result"
    }
   ],
   "source": [
    "model.fit(X_train_scaled,y_train,validation_data=(X_test_scaled,y_test),epochs=20)"
   ]
  },
  {
   "cell_type": "code",
   "execution_count": 79,
   "metadata": {
    "id": "XRnyj4YxrfCi"
   },
   "outputs": [],
   "source": [
    "prediction=model.predict(X_test_scaled_1)\n",
    "sub=pd.read_csv(\"/content/sample_submission.csv\")\n",
    "sub['Is_Lead']=prediction\n",
    "sub.to_csv('mlp_model.csv',index=False)"
   ]
  }
 ],
 "metadata": {
  "accelerator": "GPU",
  "colab": {
   "collapsed_sections": [],
   "name": "Hackathon_2.ipynb",
   "provenance": []
  },
  "kernelspec": {
   "display_name": "Python 3",
   "language": "python",
   "name": "python3"
  },
  "language_info": {
   "codemirror_mode": {
    "name": "ipython",
    "version": 3
   },
   "file_extension": ".py",
   "mimetype": "text/x-python",
   "name": "python",
   "nbconvert_exporter": "python",
   "pygments_lexer": "ipython3",
   "version": "3.8.5"
  }
 },
 "nbformat": 4,
 "nbformat_minor": 1
}
