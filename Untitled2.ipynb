{
 "cells": [
  {
   "cell_type": "code",
   "execution_count": 25,
   "metadata": {},
   "outputs": [
    {
     "name": "stdout",
     "output_type": "stream",
     "text": [
      "Collecting catboost\n",
      "  Downloading catboost-0.25.1-cp38-none-win_amd64.whl (66.9 MB)\n",
      "Requirement already satisfied: six in c:\\users\\anuragreddy\\appdata\\local\\programs\\python\\python38\\lib\\site-packages (from catboost) (1.15.0)\n",
      "Requirement already satisfied: numpy>=1.16.0 in c:\\users\\anuragreddy\\appdata\\local\\programs\\python\\python38\\lib\\site-packages (from catboost) (1.19.0)\n",
      "Requirement already satisfied: scipy in c:\\users\\anuragreddy\\appdata\\local\\programs\\python\\python38\\lib\\site-packages (from catboost) (1.4.1)\n",
      "Requirement already satisfied: pandas>=0.24.0 in c:\\users\\anuragreddy\\appdata\\local\\programs\\python\\python38\\lib\\site-packages (from catboost) (1.1.5)\n"
     ]
    },
    {
     "name": "stderr",
     "output_type": "stream",
     "text": [
      "WARNING: You are using pip version 21.0.1; however, version 21.1.2 is available.\n",
      "You should consider upgrading via the 'c:\\users\\anuragreddy\\appdata\\local\\programs\\python\\python38\\python.exe -m pip install --upgrade pip' command.\n"
     ]
    },
    {
     "name": "stdout",
     "output_type": "stream",
     "text": [
      "Requirement already satisfied: plotly in c:\\users\\anuragreddy\\appdata\\local\\programs\\python\\python38\\lib\\site-packages (from catboost) (4.11.0)\n",
      "Collecting graphviz\n",
      "  Downloading graphviz-0.16-py2.py3-none-any.whl (19 kB)\n",
      "Requirement already satisfied: matplotlib in c:\\users\\anuragreddy\\appdata\\local\\programs\\python\\python38\\lib\\site-packages (from catboost) (3.3.2)\n",
      "Requirement already satisfied: python-dateutil>=2.7.3 in c:\\users\\anuragreddy\\appdata\\local\\programs\\python\\python38\\lib\\site-packages (from pandas>=0.24.0->catboost) (2.8.1)\n",
      "Requirement already satisfied: pytz>=2017.2 in c:\\users\\anuragreddy\\appdata\\local\\programs\\python\\python38\\lib\\site-packages (from pandas>=0.24.0->catboost) (2020.1)\n",
      "Requirement already satisfied: cycler>=0.10 in c:\\users\\anuragreddy\\appdata\\local\\programs\\python\\python38\\lib\\site-packages (from matplotlib->catboost) (0.10.0)\n",
      "Requirement already satisfied: pyparsing!=2.0.4,!=2.1.2,!=2.1.6,>=2.0.3 in c:\\users\\anuragreddy\\appdata\\local\\programs\\python\\python38\\lib\\site-packages (from matplotlib->catboost) (2.4.7)\n",
      "Requirement already satisfied: kiwisolver>=1.0.1 in c:\\users\\anuragreddy\\appdata\\local\\programs\\python\\python38\\lib\\site-packages (from matplotlib->catboost) (1.2.0)\n",
      "Requirement already satisfied: pillow>=6.2.0 in c:\\users\\anuragreddy\\appdata\\local\\programs\\python\\python38\\lib\\site-packages (from matplotlib->catboost) (7.2.0)\n",
      "Requirement already satisfied: certifi>=2020.06.20 in c:\\users\\anuragreddy\\appdata\\local\\programs\\python\\python38\\lib\\site-packages (from matplotlib->catboost) (2020.6.20)\n",
      "Requirement already satisfied: retrying>=1.3.3 in c:\\users\\anuragreddy\\appdata\\local\\programs\\python\\python38\\lib\\site-packages (from plotly->catboost) (1.3.3)\n",
      "Installing collected packages: graphviz, catboost\n",
      "Successfully installed catboost-0.25.1 graphviz-0.16\n"
     ]
    }
   ],
   "source": [
    "!pip3 install catboost"
   ]
  },
  {
   "cell_type": "code",
   "execution_count": 26,
   "metadata": {},
   "outputs": [],
   "source": [
    "import numpy as np\n",
    "import pandas as pd\n",
    "from sklearn.model_selection import train_test_split\n",
    "from sklearn.preprocessing import LabelEncoder\n",
    "import warnings\n",
    "warnings.filterwarnings('ignore')\n",
    "from sklearn.model_selection import KFold, StratifiedKFold\n",
    "from sklearn.metrics import roc_auc_score\n",
    "from lightgbm import LGBMClassifier\n",
    "from catboost import CatBoostClassifier"
   ]
  },
  {
   "cell_type": "code",
   "execution_count": 2,
   "metadata": {},
   "outputs": [],
   "source": [
    "train_data=pd.read_csv(\"train_s3TEQDk.csv\")\n",
    "test_data=pd.read_csv(\"test_mSzZ8RL.csv\")"
   ]
  },
  {
   "cell_type": "code",
   "execution_count": 3,
   "metadata": {},
   "outputs": [
    {
     "data": {
      "text/plain": [
       "((245725, 11), (105312, 10))"
      ]
     },
     "execution_count": 3,
     "metadata": {},
     "output_type": "execute_result"
    }
   ],
   "source": [
    "train_data.shape, test_data.shape"
   ]
  },
  {
   "cell_type": "code",
   "execution_count": 4,
   "metadata": {},
   "outputs": [
    {
     "data": {
      "text/plain": [
       "ID                         0\n",
       "Gender                     0\n",
       "Age                        0\n",
       "Region_Code                0\n",
       "Occupation                 0\n",
       "Channel_Code               0\n",
       "Vintage                    0\n",
       "Credit_Product         29325\n",
       "Avg_Account_Balance        0\n",
       "Is_Active                  0\n",
       "Is_Lead                    0\n",
       "dtype: int64"
      ]
     },
     "execution_count": 4,
     "metadata": {},
     "output_type": "execute_result"
    }
   ],
   "source": [
    "train_data.isnull().sum()"
   ]
  },
  {
   "cell_type": "code",
   "execution_count": 5,
   "metadata": {},
   "outputs": [
    {
     "data": {
      "text/plain": [
       "ID                         0\n",
       "Gender                     0\n",
       "Age                        0\n",
       "Region_Code                0\n",
       "Occupation                 0\n",
       "Channel_Code               0\n",
       "Vintage                    0\n",
       "Credit_Product         12522\n",
       "Avg_Account_Balance        0\n",
       "Is_Active                  0\n",
       "dtype: int64"
      ]
     },
     "execution_count": 5,
     "metadata": {},
     "output_type": "execute_result"
    }
   ],
   "source": [
    "test_data.isnull().sum()"
   ]
  },
  {
   "cell_type": "code",
   "execution_count": 6,
   "metadata": {},
   "outputs": [
    {
     "data": {
      "text/plain": [
       "No     144357\n",
       "Yes     72043\n",
       "Name: Credit_Product, dtype: int64"
      ]
     },
     "execution_count": 6,
     "metadata": {},
     "output_type": "execute_result"
    }
   ],
   "source": [
    "train_data['Credit_Product'].value_counts()"
   ]
  },
  {
   "cell_type": "code",
   "execution_count": 7,
   "metadata": {},
   "outputs": [
    {
     "data": {
      "text/plain": [
       "No     61608\n",
       "Yes    31182\n",
       "Name: Credit_Product, dtype: int64"
      ]
     },
     "execution_count": 7,
     "metadata": {},
     "output_type": "execute_result"
    }
   ],
   "source": [
    "test_data['Credit_Product'].value_counts()"
   ]
  },
  {
   "cell_type": "code",
   "execution_count": 8,
   "metadata": {},
   "outputs": [],
   "source": [
    "train_data['Credit_Product'].replace(np.nan,'Yes',inplace=True)\n",
    "test_data['Credit_Product'].replace(np.nan,'Yes',inplace=True)"
   ]
  },
  {
   "cell_type": "code",
   "execution_count": 9,
   "metadata": {},
   "outputs": [
    {
     "data": {
      "text/plain": [
       "No     144357\n",
       "Yes    101368\n",
       "Name: Credit_Product, dtype: int64"
      ]
     },
     "execution_count": 9,
     "metadata": {},
     "output_type": "execute_result"
    }
   ],
   "source": [
    "train_data['Credit_Product'].value_counts()"
   ]
  },
  {
   "cell_type": "code",
   "execution_count": 10,
   "metadata": {},
   "outputs": [
    {
     "data": {
      "text/plain": [
       "No     61608\n",
       "Yes    43704\n",
       "Name: Credit_Product, dtype: int64"
      ]
     },
     "execution_count": 10,
     "metadata": {},
     "output_type": "execute_result"
    }
   ],
   "source": [
    "test_data['Credit_Product'].value_counts()"
   ]
  },
  {
   "cell_type": "code",
   "execution_count": 11,
   "metadata": {},
   "outputs": [],
   "source": [
    "#Doing Label Encoding to our Categeorical features for train_data\n",
    "label_encoder=LabelEncoder()\n",
    "train_data['Gender']=label_encoder.fit_transform(train_data['Gender'])\n",
    "test_data['Gender']=label_encoder.fit_transform(test_data['Gender'])\n",
    "\n",
    "train_data['Region_Code']=label_encoder.fit_transform(train_data['Region_Code'])\n",
    "test_data['Region_Code']=label_encoder.fit_transform(test_data['Region_Code'])\n",
    "\n",
    "train_data['Occupation']=label_encoder.fit_transform(train_data['Occupation'])\n",
    "test_data['Occupation']=label_encoder.fit_transform(test_data['Occupation'])\n",
    "\n",
    "train_data['Channel_Code']=label_encoder.fit_transform(train_data['Channel_Code'])\n",
    "test_data['Channel_Code']=label_encoder.fit_transform(test_data['Channel_Code'])\n",
    "\n",
    "train_data['Credit_Product']=label_encoder.fit_transform(train_data['Credit_Product'])\n",
    "test_data['Credit_Product']=label_encoder.fit_transform(test_data['Credit_Product'])\n",
    "\n",
    "train_data['Is_Active']=label_encoder.fit_transform(train_data['Is_Active'])\n",
    "test_data['Is_Active']=label_encoder.fit_transform(test_data['Is_Active'])"
   ]
  },
  {
   "cell_type": "code",
   "execution_count": 13,
   "metadata": {},
   "outputs": [],
   "source": [
    "X = train_data.drop(['ID','Is_Lead'],axis=1)\n",
    "y = train_data['Is_Lead']"
   ]
  },
  {
   "cell_type": "code",
   "execution_count": 14,
   "metadata": {},
   "outputs": [
    {
     "data": {
      "text/html": [
       "<div>\n",
       "<style scoped>\n",
       "    .dataframe tbody tr th:only-of-type {\n",
       "        vertical-align: middle;\n",
       "    }\n",
       "\n",
       "    .dataframe tbody tr th {\n",
       "        vertical-align: top;\n",
       "    }\n",
       "\n",
       "    .dataframe thead th {\n",
       "        text-align: right;\n",
       "    }\n",
       "</style>\n",
       "<table border=\"1\" class=\"dataframe\">\n",
       "  <thead>\n",
       "    <tr style=\"text-align: right;\">\n",
       "      <th></th>\n",
       "      <th>Gender</th>\n",
       "      <th>Age</th>\n",
       "      <th>Region_Code</th>\n",
       "      <th>Occupation</th>\n",
       "      <th>Channel_Code</th>\n",
       "      <th>Vintage</th>\n",
       "      <th>Credit_Product</th>\n",
       "      <th>Avg_Account_Balance</th>\n",
       "      <th>Is_Active</th>\n",
       "    </tr>\n",
       "  </thead>\n",
       "  <tbody>\n",
       "    <tr>\n",
       "      <th>0</th>\n",
       "      <td>0</td>\n",
       "      <td>73</td>\n",
       "      <td>18</td>\n",
       "      <td>1</td>\n",
       "      <td>2</td>\n",
       "      <td>43</td>\n",
       "      <td>0</td>\n",
       "      <td>1045696</td>\n",
       "      <td>0</td>\n",
       "    </tr>\n",
       "    <tr>\n",
       "      <th>1</th>\n",
       "      <td>0</td>\n",
       "      <td>30</td>\n",
       "      <td>27</td>\n",
       "      <td>2</td>\n",
       "      <td>0</td>\n",
       "      <td>32</td>\n",
       "      <td>0</td>\n",
       "      <td>581988</td>\n",
       "      <td>0</td>\n",
       "    </tr>\n",
       "    <tr>\n",
       "      <th>2</th>\n",
       "      <td>0</td>\n",
       "      <td>56</td>\n",
       "      <td>18</td>\n",
       "      <td>3</td>\n",
       "      <td>2</td>\n",
       "      <td>26</td>\n",
       "      <td>0</td>\n",
       "      <td>1484315</td>\n",
       "      <td>1</td>\n",
       "    </tr>\n",
       "    <tr>\n",
       "      <th>3</th>\n",
       "      <td>1</td>\n",
       "      <td>34</td>\n",
       "      <td>20</td>\n",
       "      <td>2</td>\n",
       "      <td>0</td>\n",
       "      <td>19</td>\n",
       "      <td>0</td>\n",
       "      <td>470454</td>\n",
       "      <td>0</td>\n",
       "    </tr>\n",
       "    <tr>\n",
       "      <th>4</th>\n",
       "      <td>0</td>\n",
       "      <td>30</td>\n",
       "      <td>32</td>\n",
       "      <td>2</td>\n",
       "      <td>0</td>\n",
       "      <td>33</td>\n",
       "      <td>0</td>\n",
       "      <td>886787</td>\n",
       "      <td>0</td>\n",
       "    </tr>\n",
       "  </tbody>\n",
       "</table>\n",
       "</div>"
      ],
      "text/plain": [
       "   Gender  Age  Region_Code  Occupation  Channel_Code  Vintage  \\\n",
       "0       0   73           18           1             2       43   \n",
       "1       0   30           27           2             0       32   \n",
       "2       0   56           18           3             2       26   \n",
       "3       1   34           20           2             0       19   \n",
       "4       0   30           32           2             0       33   \n",
       "\n",
       "   Credit_Product  Avg_Account_Balance  Is_Active  \n",
       "0               0              1045696          0  \n",
       "1               0               581988          0  \n",
       "2               0              1484315          1  \n",
       "3               0               470454          0  \n",
       "4               0               886787          0  "
      ]
     },
     "execution_count": 14,
     "metadata": {},
     "output_type": "execute_result"
    }
   ],
   "source": [
    "X.head()"
   ]
  },
  {
   "cell_type": "code",
   "execution_count": 17,
   "metadata": {},
   "outputs": [],
   "source": [
    "def cross_val(X, y, model, params, folds=9):\n",
    "\n",
    "    skf = StratifiedKFold(n_splits=folds, shuffle=True, random_state=21)\n",
    "    for fold, (train_idx, test_idx) in enumerate(skf.split(X, y)):\n",
    "        print(f\"Fold: {fold}\")\n",
    "        x_train, y_train = X.iloc[train_idx], y.iloc[train_idx]\n",
    "        x_test, y_test = X.iloc[test_idx], y.iloc[test_idx]\n",
    "\n",
    "        alg = model(**params)\n",
    "        alg.fit(x_train, y_train,\n",
    "                eval_set=[(x_test, y_test)],\n",
    "                early_stopping_rounds=100,\n",
    "                verbose=400)\n",
    "\n",
    "        pred = alg.predict_proba(x_test)[:, 1]\n",
    "        roc_score = roc_auc_score(y_test, pred)\n",
    "        print(f\"roc_auc_score: {roc_score}\")\n",
    "        print(\"-\"*50)\n",
    "    \n",
    "    return alg"
   ]
  },
  {
   "cell_type": "markdown",
   "metadata": {},
   "source": [
    "#### a.LGBM Classsifier"
   ]
  },
  {
   "cell_type": "code",
   "execution_count": 18,
   "metadata": {},
   "outputs": [],
   "source": [
    "lgb_params= {'learning_rate': 0.045, 'n_estimators': 20000, 'max_bin': 94,'num_leaves': 10, 'max_depth': 27,\n",
    "             'reg_alpha': 8.457, 'reg_lambda': 6.853,'subsample': 0.749}"
   ]
  },
  {
   "cell_type": "code",
   "execution_count": 19,
   "metadata": {},
   "outputs": [
    {
     "name": "stdout",
     "output_type": "stream",
     "text": [
      "Fold: 0\n",
      "Training until validation scores don't improve for 100 rounds\n",
      "[400]\tvalid_0's binary_logloss: 0.378501\n",
      "[800]\tvalid_0's binary_logloss: 0.37827\n",
      "Early stopping, best iteration is:\n",
      "[802]\tvalid_0's binary_logloss: 0.378264\n",
      "roc_auc_score: 0.8539183817995556\n",
      "--------------------------------------------------\n",
      "Fold: 1\n",
      "Training until validation scores don't improve for 100 rounds\n",
      "[400]\tvalid_0's binary_logloss: 0.382606\n",
      "Early stopping, best iteration is:\n",
      "[524]\tvalid_0's binary_logloss: 0.382519\n",
      "roc_auc_score: 0.8500344154036046\n",
      "--------------------------------------------------\n",
      "Fold: 2\n",
      "Training until validation scores don't improve for 100 rounds\n",
      "[400]\tvalid_0's binary_logloss: 0.384762\n",
      "Early stopping, best iteration is:\n",
      "[607]\tvalid_0's binary_logloss: 0.38465\n",
      "roc_auc_score: 0.8472900764920863\n",
      "--------------------------------------------------\n",
      "Fold: 3\n",
      "Training until validation scores don't improve for 100 rounds\n",
      "[400]\tvalid_0's binary_logloss: 0.383285\n",
      "Early stopping, best iteration is:\n",
      "[517]\tvalid_0's binary_logloss: 0.383167\n",
      "roc_auc_score: 0.8493604885557047\n",
      "--------------------------------------------------\n",
      "Fold: 4\n",
      "Training until validation scores don't improve for 100 rounds\n",
      "[400]\tvalid_0's binary_logloss: 0.380917\n",
      "Early stopping, best iteration is:\n",
      "[494]\tvalid_0's binary_logloss: 0.380823\n",
      "roc_auc_score: 0.8517737363514903\n",
      "--------------------------------------------------\n",
      "Fold: 5\n",
      "Training until validation scores don't improve for 100 rounds\n",
      "[400]\tvalid_0's binary_logloss: 0.382336\n",
      "Early stopping, best iteration is:\n",
      "[663]\tvalid_0's binary_logloss: 0.382243\n",
      "roc_auc_score: 0.8505607109413491\n",
      "--------------------------------------------------\n",
      "Fold: 6\n",
      "Training until validation scores don't improve for 100 rounds\n",
      "[400]\tvalid_0's binary_logloss: 0.378841\n",
      "Early stopping, best iteration is:\n",
      "[685]\tvalid_0's binary_logloss: 0.378685\n",
      "roc_auc_score: 0.8541274022666261\n",
      "--------------------------------------------------\n",
      "Fold: 7\n",
      "Training until validation scores don't improve for 100 rounds\n",
      "[400]\tvalid_0's binary_logloss: 0.38058\n",
      "Early stopping, best iteration is:\n",
      "[657]\tvalid_0's binary_logloss: 0.380389\n",
      "roc_auc_score: 0.8532083676406534\n",
      "--------------------------------------------------\n",
      "Fold: 8\n",
      "Training until validation scores don't improve for 100 rounds\n",
      "[400]\tvalid_0's binary_logloss: 0.382945\n",
      "[800]\tvalid_0's binary_logloss: 0.382679\n",
      "Early stopping, best iteration is:\n",
      "[974]\tvalid_0's binary_logloss: 0.382578\n",
      "roc_auc_score: 0.8489208609089447\n",
      "--------------------------------------------------\n"
     ]
    }
   ],
   "source": [
    "lgb_model = cross_val(X, y, LGBMClassifier, lgb_params)"
   ]
  },
  {
   "cell_type": "code",
   "execution_count": 20,
   "metadata": {},
   "outputs": [],
   "source": [
    "test_data=test_data.drop(['ID'],axis=1)"
   ]
  },
  {
   "cell_type": "code",
   "execution_count": 21,
   "metadata": {},
   "outputs": [],
   "source": [
    "pred_test_lgb = lgb_model.predict_proba(test_data)"
   ]
  },
  {
   "cell_type": "code",
   "execution_count": 22,
   "metadata": {},
   "outputs": [],
   "source": [
    "submission=pd.read_csv(\"sample_submission_eyYijxG.csv\")\n",
    "submission['Is_Lead']=pred_test_lgb\n",
    "submission.to_csv('submissions_hackathon/LE_LGBM_submission.csv',index=False)"
   ]
  },
  {
   "cell_type": "markdown",
   "metadata": {},
   "source": [
    "#### b.Catboost"
   ]
  },
  {
   "cell_type": "code",
   "execution_count": 27,
   "metadata": {},
   "outputs": [],
   "source": [
    "cat_params= {'n_estimators': 20000, 'depth': 4, 'learning_rate': 0.023, 'colsample_bylevel': 0.655, \n",
    "             'bagging_temperature': 0.921,'l2_leaf_reg': 10.133}"
   ]
  },
  {
   "cell_type": "code",
   "execution_count": 28,
   "metadata": {},
   "outputs": [
    {
     "name": "stdout",
     "output_type": "stream",
     "text": [
      "Fold: 0\n",
      "0:\tlearn: 0.6764678\ttest: 0.6763910\tbest: 0.6763910 (0)\ttotal: 86.3ms\tremaining: 28m 46s\n",
      "400:\tlearn: 0.3838220\ttest: 0.3809702\tbest: 0.3809702 (400)\ttotal: 11.5s\tremaining: 9m 22s\n",
      "800:\tlearn: 0.3816904\ttest: 0.3793974\tbest: 0.3793974 (800)\ttotal: 24s\tremaining: 9m 34s\n",
      "1200:\tlearn: 0.3804694\ttest: 0.3788967\tbest: 0.3788967 (1200)\ttotal: 37.9s\tremaining: 9m 53s\n",
      "1600:\tlearn: 0.3796599\ttest: 0.3788106\tbest: 0.3788008 (1578)\ttotal: 52.8s\tremaining: 10m 6s\n",
      "Stopped by overfitting detector  (100 iterations wait)\n",
      "\n",
      "bestTest = 0.3787739864\n",
      "bestIteration = 1730\n",
      "\n",
      "Shrink model to first 1731 iterations.\n",
      "roc_auc_score: 0.8534939871875467\n",
      "--------------------------------------------------\n",
      "Fold: 1\n",
      "0:\tlearn: 0.6764287\ttest: 0.6764170\tbest: 0.6764170 (0)\ttotal: 29.1ms\tremaining: 9m 41s\n",
      "400:\tlearn: 0.3834971\ttest: 0.3849283\tbest: 0.3849283 (400)\ttotal: 13.5s\tremaining: 11m 1s\n",
      "800:\tlearn: 0.3810497\ttest: 0.3833247\tbest: 0.3833245 (799)\ttotal: 27.2s\tremaining: 10m 52s\n",
      "1200:\tlearn: 0.3798912\ttest: 0.3829188\tbest: 0.3829171 (1196)\ttotal: 41s\tremaining: 10m 41s\n",
      "1600:\tlearn: 0.3790795\ttest: 0.3828002\tbest: 0.3827837 (1525)\ttotal: 54.9s\tremaining: 10m 30s\n",
      "Stopped by overfitting detector  (100 iterations wait)\n",
      "\n",
      "bestTest = 0.3827837452\n",
      "bestIteration = 1525\n",
      "\n",
      "Shrink model to first 1526 iterations.\n",
      "roc_auc_score: 0.8498629018675662\n",
      "--------------------------------------------------\n",
      "Fold: 2\n",
      "0:\tlearn: 0.6763941\ttest: 0.6764304\tbest: 0.6764304 (0)\ttotal: 31.2ms\tremaining: 10m 24s\n",
      "400:\tlearn: 0.3831795\ttest: 0.3868182\tbest: 0.3868182 (400)\ttotal: 14s\tremaining: 11m 25s\n",
      "800:\tlearn: 0.3808311\ttest: 0.3853062\tbest: 0.3853045 (799)\ttotal: 27.9s\tremaining: 11m 8s\n",
      "1200:\tlearn: 0.3795993\ttest: 0.3849573\tbest: 0.3849566 (1199)\ttotal: 41.9s\tremaining: 10m 56s\n",
      "1600:\tlearn: 0.3787617\ttest: 0.3849018\tbest: 0.3848989 (1585)\ttotal: 56.1s\tremaining: 10m 45s\n",
      "Stopped by overfitting detector  (100 iterations wait)\n",
      "\n",
      "bestTest = 0.3848843053\n",
      "bestIteration = 1652\n",
      "\n",
      "Shrink model to first 1653 iterations.\n",
      "roc_auc_score: 0.8478924164904129\n",
      "--------------------------------------------------\n",
      "Fold: 3\n",
      "0:\tlearn: 0.6764139\ttest: 0.6764110\tbest: 0.6764110 (0)\ttotal: 34.8ms\tremaining: 11m 35s\n",
      "400:\tlearn: 0.3834680\ttest: 0.3858390\tbest: 0.3858390 (400)\ttotal: 14.8s\tremaining: 12m 3s\n",
      "800:\tlearn: 0.3810068\ttest: 0.3840580\tbest: 0.3840556 (796)\ttotal: 29.1s\tremaining: 11m 37s\n",
      "1200:\tlearn: 0.3798415\ttest: 0.3836323\tbest: 0.3836306 (1199)\ttotal: 43.4s\tremaining: 11m 19s\n",
      "1600:\tlearn: 0.3790164\ttest: 0.3834678\tbest: 0.3834671 (1595)\ttotal: 1m\tremaining: 11m 29s\n",
      "Stopped by overfitting detector  (100 iterations wait)\n",
      "\n",
      "bestTest = 0.3834300053\n",
      "bestIteration = 1780\n",
      "\n",
      "Shrink model to first 1781 iterations.\n",
      "roc_auc_score: 0.8490604255458459\n",
      "--------------------------------------------------\n",
      "Fold: 4\n",
      "0:\tlearn: 0.6764543\ttest: 0.6764754\tbest: 0.6764754 (0)\ttotal: 31ms\tremaining: 10m 19s\n",
      "400:\tlearn: 0.3836695\ttest: 0.3831005\tbest: 0.3831005 (400)\ttotal: 14.1s\tremaining: 11m 31s\n",
      "800:\tlearn: 0.3813142\ttest: 0.3813197\tbest: 0.3813197 (800)\ttotal: 28.1s\tremaining: 11m 12s\n",
      "1200:\tlearn: 0.3802469\ttest: 0.3809978\tbest: 0.3809947 (1197)\ttotal: 42.6s\tremaining: 11m 7s\n",
      "1600:\tlearn: 0.3793846\ttest: 0.3808358\tbest: 0.3808255 (1559)\ttotal: 56.9s\tremaining: 10m 54s\n",
      "Stopped by overfitting detector  (100 iterations wait)\n",
      "\n",
      "bestTest = 0.3807521007\n",
      "bestIteration = 1726\n",
      "\n",
      "Shrink model to first 1727 iterations.\n",
      "roc_auc_score: 0.8522163414305531\n",
      "--------------------------------------------------\n",
      "Fold: 5\n",
      "0:\tlearn: 0.6764148\ttest: 0.6764313\tbest: 0.6764313 (0)\ttotal: 32.3ms\tremaining: 10m 45s\n",
      "400:\tlearn: 0.3835753\ttest: 0.3847715\tbest: 0.3847715 (400)\ttotal: 13.5s\tremaining: 11m\n",
      "800:\tlearn: 0.3810958\ttest: 0.3829173\tbest: 0.3829173 (800)\ttotal: 27.3s\tremaining: 10m 53s\n",
      "1200:\tlearn: 0.3800064\ttest: 0.3824943\tbest: 0.3824908 (1197)\ttotal: 41.2s\tremaining: 10m 44s\n",
      "1600:\tlearn: 0.3791458\ttest: 0.3823126\tbest: 0.3823069 (1595)\ttotal: 55.3s\tremaining: 10m 35s\n",
      "2000:\tlearn: 0.3784324\ttest: 0.3821707\tbest: 0.3821707 (2000)\ttotal: 1m 9s\tremaining: 10m 24s\n",
      "2400:\tlearn: 0.3777910\ttest: 0.3820504\tbest: 0.3820504 (2400)\ttotal: 1m 23s\tremaining: 10m 12s\n",
      "2800:\tlearn: 0.3771994\ttest: 0.3820299\tbest: 0.3820261 (2777)\ttotal: 1m 37s\tremaining: 10m 1s\n",
      "Stopped by overfitting detector  (100 iterations wait)\n",
      "\n",
      "bestTest = 0.382008369\n",
      "bestIteration = 2930\n",
      "\n",
      "Shrink model to first 2931 iterations.\n",
      "roc_auc_score: 0.8508139728547115\n",
      "--------------------------------------------------\n",
      "Fold: 6\n",
      "0:\tlearn: 0.6764692\ttest: 0.6764527\tbest: 0.6764527 (0)\ttotal: 32.9ms\tremaining: 10m 58s\n",
      "400:\tlearn: 0.3839923\ttest: 0.3814495\tbest: 0.3814495 (400)\ttotal: 15.3s\tremaining: 12m 28s\n",
      "800:\tlearn: 0.3815308\ttest: 0.3796077\tbest: 0.3796077 (800)\ttotal: 30.2s\tremaining: 12m 3s\n",
      "1200:\tlearn: 0.3804115\ttest: 0.3791423\tbest: 0.3791367 (1196)\ttotal: 46s\tremaining: 11m 59s\n",
      "Stopped by overfitting detector  (100 iterations wait)\n",
      "\n",
      "bestTest = 0.3789650385\n",
      "bestIteration = 1469\n",
      "\n",
      "Shrink model to first 1470 iterations.\n",
      "roc_auc_score: 0.8536691325721828\n",
      "--------------------------------------------------\n",
      "Fold: 7\n",
      "0:\tlearn: 0.6764441\ttest: 0.6764175\tbest: 0.6764175 (0)\ttotal: 32.5ms\tremaining: 10m 50s\n",
      "400:\tlearn: 0.3837851\ttest: 0.3833581\tbest: 0.3833581 (400)\ttotal: 14.9s\tremaining: 12m 10s\n",
      "800:\tlearn: 0.3813256\ttest: 0.3812417\tbest: 0.3812417 (800)\ttotal: 30s\tremaining: 11m 58s\n",
      "1200:\tlearn: 0.3801866\ttest: 0.3806720\tbest: 0.3806720 (1200)\ttotal: 45s\tremaining: 11m 45s\n",
      "1600:\tlearn: 0.3793365\ttest: 0.3804074\tbest: 0.3804074 (1600)\ttotal: 1m\tremaining: 11m 31s\n",
      "2000:\tlearn: 0.3786301\ttest: 0.3802999\tbest: 0.3802977 (1994)\ttotal: 1m 15s\tremaining: 11m 17s\n",
      "Stopped by overfitting detector  (100 iterations wait)\n",
      "\n",
      "bestTest = 0.380290436\n",
      "bestIteration = 2069\n",
      "\n",
      "Shrink model to first 2070 iterations.\n",
      "roc_auc_score: 0.8533059066068588\n",
      "--------------------------------------------------\n",
      "Fold: 8\n",
      "0:\tlearn: 0.6763894\ttest: 0.6764649\tbest: 0.6764649 (0)\ttotal: 33.4ms\tremaining: 11m 7s\n",
      "400:\tlearn: 0.3834202\ttest: 0.3855401\tbest: 0.3855401 (400)\ttotal: 14.9s\tremaining: 12m 10s\n",
      "800:\tlearn: 0.3811128\ttest: 0.3838197\tbest: 0.3838197 (800)\ttotal: 30.3s\tremaining: 12m 5s\n",
      "1200:\tlearn: 0.3799440\ttest: 0.3834752\tbest: 0.3834752 (1200)\ttotal: 45.8s\tremaining: 11m 56s\n",
      "1600:\tlearn: 0.3790715\ttest: 0.3833372\tbest: 0.3833351 (1538)\ttotal: 1m 1s\tremaining: 11m 46s\n",
      "2000:\tlearn: 0.3783223\ttest: 0.3832715\tbest: 0.3832677 (1921)\ttotal: 1m 17s\tremaining: 11m 35s\n",
      "Stopped by overfitting detector  (100 iterations wait)\n",
      "\n",
      "bestTest = 0.3832677403\n",
      "bestIteration = 1921\n",
      "\n",
      "Shrink model to first 1922 iterations.\n",
      "roc_auc_score: 0.8484859765140109\n",
      "--------------------------------------------------\n"
     ]
    }
   ],
   "source": [
    "cat_model = cross_val(X, y, CatBoostClassifier, cat_params)"
   ]
  },
  {
   "cell_type": "code",
   "execution_count": 29,
   "metadata": {},
   "outputs": [],
   "source": [
    "pred_test_catboost = cat_model.predict_proba(test_data)\n",
    "submission=pd.read_csv(\"sample_submission_eyYijxG.csv\")\n",
    "submission['Is_Lead']=pred_test_catboost\n",
    "submission.to_csv('submissions_hackathon/LE_catboost_submission.csv',index=False)"
   ]
  },
  {
   "cell_type": "code",
   "execution_count": null,
   "metadata": {},
   "outputs": [],
   "source": []
  },
  {
   "cell_type": "code",
   "execution_count": null,
   "metadata": {},
   "outputs": [],
   "source": []
  },
  {
   "cell_type": "code",
   "execution_count": null,
   "metadata": {},
   "outputs": [],
   "source": []
  }
 ],
 "metadata": {
  "kernelspec": {
   "display_name": "Python 3",
   "language": "python",
   "name": "python3"
  },
  "language_info": {
   "codemirror_mode": {
    "name": "ipython",
    "version": 3
   },
   "file_extension": ".py",
   "mimetype": "text/x-python",
   "name": "python",
   "nbconvert_exporter": "python",
   "pygments_lexer": "ipython3",
   "version": "3.8.5"
  }
 },
 "nbformat": 4,
 "nbformat_minor": 4
}
